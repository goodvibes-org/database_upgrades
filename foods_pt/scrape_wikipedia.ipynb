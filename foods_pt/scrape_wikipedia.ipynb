{
  "cells": [
    {
      "cell_type": "code",
      "execution_count": null,
      "metadata": {},
      "outputs": [],
      "source": [
        "import pandas as pd\n",
        "import numpy as np"
      ]
    },
    {
      "cell_type": "code",
      "execution_count": 8,
      "metadata": {
        "id": "Xu1Ag8obgp2r"
      },
      "outputs": [],
      "source": [
        "df=pd.read_excel('traduccion_pt_clean.xlsx', header=None, index_col=0)"
      ]
    },
    {
      "cell_type": "code",
      "execution_count": null,
      "metadata": {},
      "outputs": [],
      "source": [
        "# Prueba\n",
        "\n",
        "for n, row in df.iterrows():\n",
        "    print(row.name)"
      ]
    },
    {
      "cell_type": "code",
      "execution_count": 12,
      "metadata": {
        "id": "jC43xDfkgwaJ"
      },
      "outputs": [],
      "source": [
        "df2=pd.read_excel('FOODs_Aditivos.xlsx')"
      ]
    },
    {
      "cell_type": "code",
      "execution_count": 29,
      "metadata": {
        "id": "skGbc4LMleLj"
      },
      "outputs": [],
      "source": [
        "borders=[n for n,row in df2.iterrows() if row.isna().all()] # Como cada ingrediente distinto está separado por una row de NaN's, busco las fronteras\n",
        "null_row=df2.iloc[borders[0]].copy() # Genero una row vacía para insertar fronteras\n",
        "reconstitutor_for_dataframe=[] # Contenedor para todas las rows modificadas\n",
        "for n,node in enumerate(borders): # Se uitera sobre el index\n",
        "  df_slice=df2.iloc[borders[n-1]+1:node,:] # El cachito de dataframe que representa un ingrediente.\n",
        "  for n, row in df.iterrows(): # itero sobre el df que contiene los nombres traducidos.\n",
        "    if row.name.lower() in ' '.join(df_slice[\"Unnamed: 0\"].dropna().str.lower()): # el join contiene todos los nombres de los sinonimos, row.name es el nombre \"de referencia\"\n",
        "      sel=df_slice.iloc[-1,:].copy() # Copio la ultima row para modificarla y apendarla al slice luego.\n",
        "      for italian_name in row.dropna(): # Itero sobre todos los sinonimos traducidos\n",
        "        sel['Unnamed: 0']=italian_name # Modifico el nombre de la ultima row con el sinonimo traducido\n",
        "        df_slice=df_slice.append(sel) # se agrega la row al paquete\n",
        "        break # ? \n",
        "  df_slice=df_slice.append(null_row) # Se agrega la null row al paquete\n",
        "  reconstitutor_for_dataframe.append(df_slice) # se agrega el paquete al contenedor"
      ]
    },
    {
      "cell_type": "code",
      "execution_count": 15,
      "metadata": {
        "colab": {
          "base_uri": "https://localhost:8080/",
          "height": 17
        },
        "id": "iki64QqDl1df",
        "outputId": "529ab7b2-9d7b-4184-b0cd-303bca0020b7"
      },
      "outputs": [
        {
          "data": {
            "application/javascript": "\n    async function download(id, filename, size) {\n      if (!google.colab.kernel.accessAllowed) {\n        return;\n      }\n      const div = document.createElement('div');\n      const label = document.createElement('label');\n      label.textContent = `Downloading \"${filename}\": `;\n      div.appendChild(label);\n      const progress = document.createElement('progress');\n      progress.max = size;\n      div.appendChild(progress);\n      document.body.appendChild(div);\n\n      const buffers = [];\n      let downloaded = 0;\n\n      const channel = await google.colab.kernel.comms.open(id);\n      // Send a message to notify the kernel that we're ready.\n      channel.send({})\n\n      for await (const message of channel.messages) {\n        // Send a message to notify the kernel that we're ready.\n        channel.send({})\n        if (message.buffers) {\n          for (const buffer of message.buffers) {\n            buffers.push(buffer);\n            downloaded += buffer.byteLength;\n            progress.value = downloaded;\n          }\n        }\n      }\n      const blob = new Blob(buffers, {type: 'application/binary'});\n      const a = document.createElement('a');\n      a.href = window.URL.createObjectURL(blob);\n      a.download = filename;\n      div.appendChild(a);\n      a.click();\n      div.remove();\n    }\n  ",
            "text/plain": [
              "<IPython.core.display.Javascript object>"
            ]
          },
          "metadata": {},
          "output_type": "display_data"
        },
        {
          "data": {
            "application/javascript": "download(\"download_9dff097d-0380-433b-a6f0-824c18cc8aca\", \"final_.xlsx\", 262419)",
            "text/plain": [
              "<IPython.core.display.Javascript object>"
            ]
          },
          "metadata": {},
          "output_type": "display_data"
        }
      ],
      "source": [
        "pd.concat(reconstitutor_for_dataframe).reset_index(drop=True).to_excel('final_.xlsx')\n",
        "files.download('final_.xlsx')"
      ]
    }
  ],
  "metadata": {
    "colab": {
      "name": "scrape_wikipedia.ipynb",
      "provenance": []
    },
    "kernelspec": {
      "display_name": "Python 3",
      "name": "python3"
    },
    "language_info": {
      "name": "python"
    }
  },
  "nbformat": 4,
  "nbformat_minor": 0
}
