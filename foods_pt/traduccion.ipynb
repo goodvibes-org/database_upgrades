{
  "cells": [
    {
      "cell_type": "code",
      "execution_count": 1,
      "metadata": {},
      "outputs": [],
      "source": [
        "import pandas as pd\n",
        "import numpy as np"
      ]
    },
    {
      "cell_type": "code",
      "execution_count": 3,
      "metadata": {
        "id": "Xu1Ag8obgp2r"
      },
      "outputs": [],
      "source": [
        "df=pd.read_excel('traduccion_pt_clean.xlsx', header=None, index_col=0)"
      ]
    },
    {
      "cell_type": "code",
      "execution_count": 9,
      "metadata": {
        "id": "jC43xDfkgwaJ"
      },
      "outputs": [],
      "source": [
        "df2=pd.read_excel('FOODs_Aditivos.xlsx')"
      ]
    },
    {
      "cell_type": "code",
      "execution_count": 10,
      "metadata": {
        "id": "skGbc4LMleLj"
      },
      "outputs": [],
      "source": [
        "borders=[n for n,row in df2.iterrows() if row.isna().all()] # Como cada ingrediente distinto está separado por una row de NaN's, busco las fronteras\n",
        "null_row=df2.iloc[borders[0]].copy() # Genero una row vacía para insertar fronteras\n",
        "reconstitutor_for_dataframe=[] # Contenedor para todas las rows modificadas\n",
        "for n,node in enumerate(borders): # Se uitera sobre el index\n",
        "  df_slice=df2.iloc[borders[n-1]+1:node,:] # El cachito de dataframe que representa un ingrediente.\n",
        "  for n, row in df.iterrows(): # itero sobre el df que contiene los nombres traducidos.\n",
        "    if row.name.lower() in ' '.join(df_slice[\"Unnamed: 0\"].dropna().str.lower()): # el join contiene todos los nombres de los sinonimos, row.name es el nombre \"de referencia\"\n",
        "      sel=df_slice.iloc[-1,:].copy() # Copio la ultima row para modificarla y apendarla al slice luego.\n",
        "      for italian_name in row.dropna(): # Itero sobre todos los sinonimos traducidos\n",
        "        sel['Unnamed: 0']=italian_name # Modifico el nombre de la ultima row con el sinonimo traducido\n",
        "        df_slice=df_slice.append(sel) # se agrega la row al paquete\n",
        "        break # ? \n",
        "  df_slice=df_slice.append(null_row) # Se agrega la null row al paquete\n",
        "  reconstitutor_for_dataframe.append(df_slice) # se agrega el paquete al contenedor"
      ]
    },
    {
      "cell_type": "code",
      "execution_count": 13,
      "metadata": {
        "colab": {
          "base_uri": "https://localhost:8080/",
          "height": 17
        },
        "id": "iki64QqDl1df",
        "outputId": "529ab7b2-9d7b-4184-b0cd-303bca0020b7"
      },
      "outputs": [],
      "source": [
        "pd.concat(reconstitutor_for_dataframe).reset_index(drop=True).to_excel('final_.xlsx')\n",
        "df_final = pd.concat(reconstitutor_for_dataframe).reset_index(drop=True)\n"
      ]
    }
  ],
  "metadata": {
    "colab": {
      "name": "scrape_wikipedia.ipynb",
      "provenance": []
    },
    "kernelspec": {
      "display_name": "Python 3",
      "name": "python3"
    },
    "language_info": {
      "codemirror_mode": {
        "name": "ipython",
        "version": 3
      },
      "file_extension": ".py",
      "mimetype": "text/x-python",
      "name": "python",
      "nbconvert_exporter": "python",
      "pygments_lexer": "ipython3",
      "version": "3.9.7"
    }
  },
  "nbformat": 4,
  "nbformat_minor": 0
}
