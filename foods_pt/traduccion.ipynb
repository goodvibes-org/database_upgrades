{
  "cells": [
    {
      "cell_type": "code",
      "execution_count": 1,
      "metadata": {},
      "outputs": [],
      "source": [
        "import pandas as pd\n",
        "import numpy as np"
      ]
    },
    {
      "cell_type": "code",
      "execution_count": 3,
      "metadata": {
        "id": "Xu1Ag8obgp2r"
      },
      "outputs": [],
      "source": [
        "df=pd.read_excel('traduccion_pt_clean.xlsx', header=None, index_col=0)"
      ]
    },
    {
      "cell_type": "code",
      "execution_count": 4,
      "metadata": {},
      "outputs": [
        {
          "name": "stdout",
          "output_type": "stream",
          "text": [
            "name\n",
            "E 100\n",
            "E 101(i)\n",
            "E 101(ii)\n",
            "E 102\n",
            "E 104\n",
            "E 110\n",
            "E 120\n",
            "E 122\n",
            "E 123\n",
            "E 124\n",
            "E 127\n",
            "E 128\n",
            "E 129\n",
            "E 131\n",
            "E 132\n",
            "E 133\n",
            "E 326\n",
            "E 327\n",
            "E 330\n",
            "E 331\n",
            "E 331(i)\n",
            "E 331(ii)\n",
            "E 331(iii)\n",
            "E 332\n",
            "E 332(i)\n",
            "E 332(ii)\n",
            "E 333\n",
            "E 333(i)\n",
            "E 333(ii)\n",
            "E 333(iii)\n",
            "E 334\n",
            "E 335(i)\n",
            "E 335(ii)\n",
            "E 336(i)\n",
            "E 336(ii)\n",
            "E 337\n",
            "E 338\n",
            "E 339\n",
            "E 339(i)\n",
            "E 339(ii)\n",
            "E 339(iii)\n",
            "E 340\n",
            "E 340(i)\n",
            "E 340(ii)\n",
            "E 340(iii)\n",
            "E 341\n",
            "E 341(i)\n",
            "E 341(ii)\n",
            "E 341(iii)\n",
            "E 343\n",
            "E 343(i)\n",
            "E 343(ii)\n",
            "E 350\n",
            "E 350(i)\n",
            "E 350(ii)\n",
            "E 351\n",
            "E 352\n",
            "E 352(i)\n",
            "E 472a\n",
            "E 472b\n",
            "E 472c\n",
            "E 472d\n",
            "E 472e\n",
            "E 472f\n",
            "E 473\n",
            "E 474\n",
            "E 475\n",
            "E 476\n",
            "E 477\n",
            "E 479b\n",
            "E 481\n",
            "E 482\n",
            "E 483\n",
            "E 491\n",
            "E 492\n",
            "E 493\n",
            "E 494\n",
            "E 495\n",
            "E 500\n",
            "E 500(i)\n",
            "E 500(ii)\n",
            "E 500(iii)\n",
            "E 501\n",
            "E 501(i)\n",
            "E 501(ii)\n",
            "E 503\n",
            "E 503(i)\n",
            "E 503(ii)\n",
            "E 504\n",
            "E 504(i)\n",
            "E 504(ii)\n",
            "E 507\n",
            "E 508\n",
            "E 509\n",
            "E 511\n",
            "E 512\n",
            "E 513\n",
            "E 514\n",
            "E 514(i)\n",
            "E 514(ii)\n",
            "E 515\n",
            "E 515(i)\n",
            "E 515(ii)\n",
            "E 516\n",
            "E 517\n",
            "E 520\n",
            "E 521\n",
            "E 522\n",
            "E 523\n",
            "E 524\n",
            "E 525\n",
            "E 526\n",
            "E 527\n",
            "E 528\n",
            "E 529\n",
            "E 530\n",
            "E 535\n",
            "E 536\n",
            "E 538\n",
            "E 541\n",
            "E 551\n",
            "E 552\n",
            "E 553a\n",
            "E 553a(i)\n",
            "E 553a(ii)\n",
            "E 553b\n",
            "E 554\n",
            "E 555\n",
            "E 556\n",
            "E 952\n",
            "E 953\n",
            "E 954\n",
            "E 955\n",
            "E 957\n",
            "E 959\n",
            "E 962\n",
            "E 965\n",
            "E 965(i)\n",
            "E 965(ii)\n",
            "E 966\n",
            "E 967\n",
            "E 968\n",
            "E 999\n",
            "E 1103\n",
            "E 1103\n",
            "E 1105\n",
            "E 1200\n",
            "E 1201\n",
            "E 1202\n",
            "E 1204\n",
            "E 1410\n",
            "E 1412\n",
            "E 1413\n",
            "E 1414\n",
            "E 142\n",
            "E 1420\n",
            "E 1422\n",
            "E 1440\n",
            "E 1442\n",
            "E 1450\n",
            "E 1451\n",
            "E 1452\n",
            "E 1505\n",
            "E 1517\n",
            "E 1518\n",
            "E 1519\n",
            "E 1520\n",
            "-\n"
          ]
        }
      ],
      "source": [
        "# Prueba\n",
        "\n",
        "for n, row in df.iterrows():\n",
        "    print(row.name)"
      ]
    },
    {
      "cell_type": "code",
      "execution_count": 9,
      "metadata": {
        "id": "jC43xDfkgwaJ"
      },
      "outputs": [],
      "source": [
        "df2=pd.read_excel('FOODs_Aditivos.xlsx')"
      ]
    },
    {
      "cell_type": "code",
      "execution_count": 10,
      "metadata": {
        "id": "skGbc4LMleLj"
      },
      "outputs": [],
      "source": [
        "borders=[n for n,row in df2.iterrows() if row.isna().all()] # Como cada ingrediente distinto está separado por una row de NaN's, busco las fronteras\n",
        "null_row=df2.iloc[borders[0]].copy() # Genero una row vacía para insertar fronteras\n",
        "reconstitutor_for_dataframe=[] # Contenedor para todas las rows modificadas\n",
        "for n,node in enumerate(borders): # Se uitera sobre el index\n",
        "  df_slice=df2.iloc[borders[n-1]+1:node,:] # El cachito de dataframe que representa un ingrediente.\n",
        "  for n, row in df.iterrows(): # itero sobre el df que contiene los nombres traducidos.\n",
        "    if row.name.lower() in ' '.join(df_slice[\"Unnamed: 0\"].dropna().str.lower()): # el join contiene todos los nombres de los sinonimos, row.name es el nombre \"de referencia\"\n",
        "      sel=df_slice.iloc[-1,:].copy() # Copio la ultima row para modificarla y apendarla al slice luego.\n",
        "      for italian_name in row.dropna(): # Itero sobre todos los sinonimos traducidos\n",
        "        sel['Unnamed: 0']=italian_name # Modifico el nombre de la ultima row con el sinonimo traducido\n",
        "        df_slice=df_slice.append(sel) # se agrega la row al paquete\n",
        "        break # ? \n",
        "  df_slice=df_slice.append(null_row) # Se agrega la null row al paquete\n",
        "  reconstitutor_for_dataframe.append(df_slice) # se agrega el paquete al contenedor"
      ]
    },
    {
      "cell_type": "code",
      "execution_count": 13,
      "metadata": {
        "colab": {
          "base_uri": "https://localhost:8080/",
          "height": 17
        },
        "id": "iki64QqDl1df",
        "outputId": "529ab7b2-9d7b-4184-b0cd-303bca0020b7"
      },
      "outputs": [],
      "source": [
        "pd.concat(reconstitutor_for_dataframe).reset_index(drop=True).to_excel('final_.xlsx')\n",
        "df_final = pd.concat(reconstitutor_for_dataframe).reset_index(drop=True)\n"
      ]
    },
    {
      "cell_type": "code",
      "execution_count": 14,
      "metadata": {},
      "outputs": [
        {
          "data": {
            "text/plain": [
              "((3724, 13), (3553, 13))"
            ]
          },
          "execution_count": 14,
          "metadata": {},
          "output_type": "execute_result"
        }
      ],
      "source": [
        "df_final.shape, df2.shape"
      ]
    }
  ],
  "metadata": {
    "colab": {
      "name": "scrape_wikipedia.ipynb",
      "provenance": []
    },
    "kernelspec": {
      "display_name": "Python 3",
      "name": "python3"
    },
    "language_info": {
      "codemirror_mode": {
        "name": "ipython",
        "version": 3
      },
      "file_extension": ".py",
      "mimetype": "text/x-python",
      "name": "python",
      "nbconvert_exporter": "python",
      "pygments_lexer": "ipython3",
      "version": "3.9.7"
    }
  },
  "nbformat": 4,
  "nbformat_minor": 0
}
