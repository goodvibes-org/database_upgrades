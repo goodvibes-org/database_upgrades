{
  "cells": [
    {
      "cell_type": "code",
      "execution_count": 11,
      "metadata": {},
      "outputs": [],
      "source": [
        "import pandas as pd\n",
        "import numpy as np"
      ]
    },
    {
      "cell_type": "code",
      "execution_count": 19,
      "metadata": {
        "id": "Xu1Ag8obgp2r"
      },
      "outputs": [],
      "source": [
        "df=pd.read_excel('traduccion_pt_clean.xlsx', header=None, index_col=0)"
      ]
    },
    {
      "cell_type": "code",
      "execution_count": 18,
      "metadata": {
        "id": "jC43xDfkgwaJ"
      },
      "outputs": [],
      "source": [
        "df2=pd.read_excel('FOODs_Aditivos.xlsx')"
      ]
    },
    {
      "cell_type": "code",
      "execution_count": 21,
      "metadata": {
        "id": "skGbc4LMleLj"
      },
      "outputs": [
        {
          "name": "stderr",
          "output_type": "stream",
          "text": [
            "/tmp/ipykernel_39799/3420646523.py:6: SettingWithCopyWarning: \n",
            "A value is trying to be set on a copy of a slice from a DataFrame.\n",
            "Try using .loc[row_indexer,col_indexer] = value instead\n",
            "\n",
            "See the caveats in the documentation: https://pandas.pydata.org/pandas-docs/stable/user_guide/indexing.html#returning-a-view-versus-a-copy\n",
            "  df_slice[\"con_sinonimos_agregados\"]=False\n"
          ]
        }
      ],
      "source": [
        "borders=[n for n,row in df2.iterrows() if row.isna().all()] # Como cada ingrediente distinto está separado por una row de NaN's, busco las fronteras\n",
        "null_row=df2.iloc[borders[0]].copy() # Genero una row vacía para insertar fronteras\n",
        "reconstitutor_for_dataframe=[] # Contenedor para todas las rows modificadas\n",
        "for n,node in enumerate(borders): # Se uitera sobre el index\n",
        "  df_slice=df2.iloc[borders[n-1]+1:node,:] # El cachito de dataframe que representa un ingrediente.\n",
        "  df_slice[\"con_sinonimos_agregados\"]=False \n",
        "  try:\n",
        "    for n, row in df.iterrows(): # itero sobre el df que contiene los nombres traducidos.\n",
        "      if row.name.lower() in ' '.join(df_slice[\"Unnamed: 0\"].dropna().str.lower()): # el join contiene todos los nombres de los sinonimos, row.name es el nombre \"de referencia\"\n",
        "        sel=df_slice.iloc[-1,:].copy() # Copio la ultima row para modificarla y apendarla al slice luego.\n",
        "        for portuguese_name in row.dropna(): # Itero sobre todos los sinonimos traducidos\n",
        "          if not portuguese_name in  df_slice[\"Unnamed: 0\"].dropna().str.lower():\n",
        "            sel['Unnamed: 0']=portuguese_name # Modifico el nombre de la ultima row con el sinonimo traducido\n",
        "            df_slice=df_slice.append(sel) # se agrega la row al paquete\n",
        "          \n",
        "            df_slice[\"con_sinonimos_agregados\"]=True\n",
        "          # break # ? \n",
        "  except AttributeError as e:\n",
        "    print(row.name, n)\n",
        "  df_slice=df_slice.append(null_row) # Se agrega la null row al paquete\n",
        "  reconstitutor_for_dataframe.append(df_slice) # se agrega el paquete al contenedor"
      ]
    },
    {
      "cell_type": "code",
      "execution_count": null,
      "metadata": {
        "colab": {
          "base_uri": "https://localhost:8080/",
          "height": 17
        },
        "id": "iki64QqDl1df",
        "outputId": "529ab7b2-9d7b-4184-b0cd-303bca0020b7"
      },
      "outputs": [],
      "source": [
        "pd.concat(reconstitutor_for_dataframe).reset_index(drop=True).to_excel('con_sinonimos_en_portugues.xlsx')\n",
        "df_final = pd.concat(reconstitutor_for_dataframe).reset_index(drop=True)\n"
      ]
    },
    {
      "cell_type": "code",
      "execution_count": null,
      "metadata": {},
      "outputs": [
        {
          "data": {
            "text/plain": [
              "0       NaN\n",
              "1       1.0\n",
              "2       1.0\n",
              "3       1.0\n",
              "4       1.0\n",
              "       ... \n",
              "3951    0.0\n",
              "3952    0.0\n",
              "3953    0.0\n",
              "3954    0.0\n",
              "3955    NaN\n",
              "Name: con_sinonimos_agregados, Length: 3956, dtype: float64"
            ]
          },
          "execution_count": 9,
          "metadata": {},
          "output_type": "execute_result"
        }
      ],
      "source": [
        "df_final.con_sinonimos_agregados"
      ]
    }
  ],
  "metadata": {
    "colab": {
      "name": "scrape_wikipedia.ipynb",
      "provenance": []
    },
    "kernelspec": {
      "display_name": "Python 3",
      "name": "python3"
    },
    "language_info": {
      "codemirror_mode": {
        "name": "ipython",
        "version": 3
      },
      "file_extension": ".py",
      "mimetype": "text/x-python",
      "name": "python",
      "nbconvert_exporter": "python",
      "pygments_lexer": "ipython3",
      "version": "3.9.7"
    }
  },
  "nbformat": 4,
  "nbformat_minor": 0
}
