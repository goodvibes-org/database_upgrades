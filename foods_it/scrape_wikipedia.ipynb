{
  "nbformat": 4,
  "nbformat_minor": 0,
  "metadata": {
    "colab": {
      "name": "scrape_wikipedia.ipynb",
      "provenance": []
    },
    "kernelspec": {
      "name": "python3",
      "display_name": "Python 3"
    },
    "language_info": {
      "name": "python"
    }
  },
  "cells": [
    {
      "cell_type": "code",
      "metadata": {
        "colab": {
          "base_uri": "https://localhost:8080/"
        },
        "id": "YeT8oZ2D5pH2",
        "outputId": "bc32c8f3-b7f8-453c-d100-46b65328b5f3"
      },
      "source": [
        "from google.colab import drive\n",
        "drive.mount('/content/drive')"
      ],
      "execution_count": 1,
      "outputs": [
        {
          "output_type": "stream",
          "name": "stdout",
          "text": [
            "Mounted at /content/drive\n"
          ]
        }
      ]
    },
    {
      "cell_type": "code",
      "metadata": {
        "id": "w10OaGwcK7g1"
      },
      "source": [
        "%%capture\n",
        "%load_ext google.colab.data_table\n",
        "\n",
        "!pip install selenium\n",
        "!apt-get update # to update ubuntu to correctly run apt install\n",
        "!apt install chromium-chromedriver\n",
        "!cp /usr/lib/chromium-browser/chromedriver /usr/bin\n",
        "import sys\n",
        "sys.path.insert(0,'/usr/lib/chromium-browser/chromedriver')\n",
        "from selenium import webdriver\n",
        "import json\n",
        "from bs4 import BeautifulSoup\n",
        "import seaborn as sns\n",
        "import matplotlib.pyplot as plt\n",
        "import matplotlib as mpl\n",
        "plt.style.use('ggplot')\n",
        "mpl.rcParams.update({'font.size':16}) \n",
        "import matplotlib.ticker as mtick\n",
        "import time\n",
        "import pandas as pd\n",
        "from selenium.common.exceptions import NoSuchElementException\n",
        "from selenium.webdriver.common.keys import Keys\n",
        "import bs4\n",
        "\n",
        "\n",
        "chrome_options = webdriver.ChromeOptions()\n",
        "chrome_options.add_argument('--headless')\n",
        "chrome_options.add_argument('--no-sandbox')\n",
        "chrome_options.add_argument('--disable-dev-shm-usage')\n",
        "wd = webdriver.Chrome('chromedriver',chrome_options=chrome_options)"
      ],
      "execution_count": 2,
      "outputs": []
    },
    {
      "cell_type": "code",
      "metadata": {
        "colab": {
          "base_uri": "https://localhost:8080/"
        },
        "id": "vLvts_NAKw5f",
        "outputId": "157cd5af-5096-46b1-d3c2-bd9f638f3b13"
      },
      "source": [
        "url='https://it.m.wikipedia.org/wiki/Additivo_alimentare'\n",
        "wd.get(url)\n",
        "headers=[]\n",
        "listas=[]\n",
        "for num in range(4,12):\n",
        "  headers=wd.find_element_by_class_name('mf-section-{}'.format(num))\n",
        "  listas+=headers.find_elements_by_tag_name('ul')\n",
        "# ingredientes=[header.find_elements_by_tag_name('ul') for header in headers]"
      ],
      "execution_count": 3,
      "outputs": [
        {
          "output_type": "stream",
          "name": "stderr",
          "text": [
            "/usr/local/lib/python3.7/dist-packages/ipykernel_launcher.py:6: DeprecationWarning: find_element_by_* commands are deprecated. Please use find_element() instead\n",
            "  \n",
            "/usr/local/lib/python3.7/dist-packages/selenium/webdriver/remote/webelement.py:359: UserWarning: find_elements_by_* commands are deprecated. Please use find_elements() instead\n",
            "  warnings.warn(\"find_elements_by_* commands are deprecated. Please use find_elements() instead\")\n"
          ]
        }
      ]
    },
    {
      "cell_type": "code",
      "metadata": {
        "id": "tQtzRzsI7Sdx",
        "colab": {
          "base_uri": "https://localhost:8080/"
        },
        "outputId": "0707dd54-a57d-4849-f236-a5e95216d7f0"
      },
      "source": [
        "%cd /content/drive/MyDrive/files_foods"
      ],
      "execution_count": 4,
      "outputs": [
        {
          "output_type": "stream",
          "name": "stdout",
          "text": [
            "/content/drive/MyDrive/files_foods\n"
          ]
        }
      ]
    },
    {
      "cell_type": "code",
      "metadata": {
        "colab": {
          "base_uri": "https://localhost:8080/"
        },
        "id": "Lk9mUdw7MAK2",
        "outputId": "27053876-804b-4f87-d12c-16fe8b2cd224"
      },
      "source": [
        "data_raw={}\n",
        "for nodo in listas:\n",
        "  ing=nodo.find_elements_by_tag_name('li')\n",
        "  for inner_nodo in ing:\n",
        "    ref, *names=inner_nodo.text.split(' ')\n",
        "    data_raw[ref]=' '.join(names)"
      ],
      "execution_count": 5,
      "outputs": [
        {
          "output_type": "stream",
          "name": "stderr",
          "text": [
            "/usr/local/lib/python3.7/dist-packages/selenium/webdriver/remote/webelement.py:359: UserWarning: find_elements_by_* commands are deprecated. Please use find_elements() instead\n",
            "  warnings.warn(\"find_elements_by_* commands are deprecated. Please use find_elements() instead\")\n"
          ]
        }
      ]
    },
    {
      "cell_type": "code",
      "metadata": {
        "colab": {
          "base_uri": "https://localhost:8080/",
          "height": 17
        },
        "id": "eODsOTtZPwPt",
        "outputId": "c60a5310-4c0a-4a91-d638-7c4a4af64917"
      },
      "source": [
        "# from google.colab import files\n",
        "# pd.Series(data_raw).to_excel('traduccion.xlsx')\n",
        "# files.download('traduccion.xlsx')"
      ],
      "execution_count": 6,
      "outputs": [
        {
          "output_type": "display_data",
          "data": {
            "application/javascript": [
              "\n",
              "    async function download(id, filename, size) {\n",
              "      if (!google.colab.kernel.accessAllowed) {\n",
              "        return;\n",
              "      }\n",
              "      const div = document.createElement('div');\n",
              "      const label = document.createElement('label');\n",
              "      label.textContent = `Downloading \"${filename}\": `;\n",
              "      div.appendChild(label);\n",
              "      const progress = document.createElement('progress');\n",
              "      progress.max = size;\n",
              "      div.appendChild(progress);\n",
              "      document.body.appendChild(div);\n",
              "\n",
              "      const buffers = [];\n",
              "      let downloaded = 0;\n",
              "\n",
              "      const channel = await google.colab.kernel.comms.open(id);\n",
              "      // Send a message to notify the kernel that we're ready.\n",
              "      channel.send({})\n",
              "\n",
              "      for await (const message of channel.messages) {\n",
              "        // Send a message to notify the kernel that we're ready.\n",
              "        channel.send({})\n",
              "        if (message.buffers) {\n",
              "          for (const buffer of message.buffers) {\n",
              "            buffers.push(buffer);\n",
              "            downloaded += buffer.byteLength;\n",
              "            progress.value = downloaded;\n",
              "          }\n",
              "        }\n",
              "      }\n",
              "      const blob = new Blob(buffers, {type: 'application/binary'});\n",
              "      const a = document.createElement('a');\n",
              "      a.href = window.URL.createObjectURL(blob);\n",
              "      a.download = filename;\n",
              "      div.appendChild(a);\n",
              "      a.click();\n",
              "      div.remove();\n",
              "    }\n",
              "  "
            ],
            "text/plain": [
              "<IPython.core.display.Javascript object>"
            ]
          },
          "metadata": {}
        },
        {
          "output_type": "display_data",
          "data": {
            "application/javascript": [
              "download(\"download_d2eabbbc-07eb-4f65-a347-e1c664c9bcd5\", \"traduccion.xlsx\", 16229)"
            ],
            "text/plain": [
              "<IPython.core.display.Javascript object>"
            ]
          },
          "metadata": {}
        }
      ]
    },
    {
      "cell_type": "code",
      "metadata": {
        "id": "Xu1Ag8obgp2r"
      },
      "source": [
        "df=pd.read_excel('traduccion_clean.xlsx', header=None, index_col=0)"
      ],
      "execution_count": 8,
      "outputs": []
    },
    {
      "cell_type": "code",
      "metadata": {
        "id": "jC43xDfkgwaJ"
      },
      "source": [
        "df2=pd.read_excel('FOODs_Aditivos.xlsx')"
      ],
      "execution_count": 12,
      "outputs": []
    },
    {
      "cell_type": "code",
      "metadata": {
        "id": "skGbc4LMleLj"
      },
      "source": [
        "borders=[n for n,row in df2.iterrows() if row.isna().all()] # Como cada ingrediente distinto está separado por una row de NaN's, busco las fronteras\n",
        "null_row=df2.iloc[borders[0]].copy() # Genero una row vacía para insertar fronteras\n",
        "reconstitutor_for_dataframe=[] # Contenedor para todas las rows modificadas\n",
        "for n,node in enumerate(borders): # Se uitera sobre el index\n",
        "  df_slice=df2.iloc[borders[n-1]+1:node,:] # El cachito de dataframe que representa un ingrediente.\n",
        "  for n, row in df.iterrows(): # itero sobre el df que contiene los nombres traducidos.\n",
        "    if row.name.lower() in ' '.join(df_slice[\"Unnamed: 0\"].dropna().str.lower()): # el join contiene todos los nombres de los sinonimos, row.name es el nombre \"de referencia\"\n",
        "      sel=df_slice.iloc[-1,:].copy() # Copio la ultima row para modificarla y apendarla al slice luego.\n",
        "      for italian_name in row.dropna(): # Itero sobre todos los sinonimos traducidos\n",
        "        sel['Unnamed: 0']=italian_name # Modifico el nombre de la ultima row con el sinonimo traducido\n",
        "        df_slice=df_slice.append(sel) # se agrega la row al paquete\n",
        "        break # ? \n",
        "  df_slice=df_slice.append(null_row) # Se agrega la null row al paquete\n",
        "  reconstitutor_for_dataframe.append(df_slice) # se agrega el paquete al contenedor"
      ],
      "execution_count": 29,
      "outputs": []
    },
    {
      "cell_type": "code",
      "metadata": {
        "colab": {
          "base_uri": "https://localhost:8080/",
          "height": 17
        },
        "id": "iki64QqDl1df",
        "outputId": "529ab7b2-9d7b-4184-b0cd-303bca0020b7"
      },
      "source": [
        "pd.concat(reconstitutor_for_dataframe).reset_index(drop=True).to_excel('final_.xlsx')\n",
        "files.download('final_.xlsx')"
      ],
      "execution_count": 15,
      "outputs": [
        {
          "output_type": "display_data",
          "data": {
            "application/javascript": [
              "\n",
              "    async function download(id, filename, size) {\n",
              "      if (!google.colab.kernel.accessAllowed) {\n",
              "        return;\n",
              "      }\n",
              "      const div = document.createElement('div');\n",
              "      const label = document.createElement('label');\n",
              "      label.textContent = `Downloading \"${filename}\": `;\n",
              "      div.appendChild(label);\n",
              "      const progress = document.createElement('progress');\n",
              "      progress.max = size;\n",
              "      div.appendChild(progress);\n",
              "      document.body.appendChild(div);\n",
              "\n",
              "      const buffers = [];\n",
              "      let downloaded = 0;\n",
              "\n",
              "      const channel = await google.colab.kernel.comms.open(id);\n",
              "      // Send a message to notify the kernel that we're ready.\n",
              "      channel.send({})\n",
              "\n",
              "      for await (const message of channel.messages) {\n",
              "        // Send a message to notify the kernel that we're ready.\n",
              "        channel.send({})\n",
              "        if (message.buffers) {\n",
              "          for (const buffer of message.buffers) {\n",
              "            buffers.push(buffer);\n",
              "            downloaded += buffer.byteLength;\n",
              "            progress.value = downloaded;\n",
              "          }\n",
              "        }\n",
              "      }\n",
              "      const blob = new Blob(buffers, {type: 'application/binary'});\n",
              "      const a = document.createElement('a');\n",
              "      a.href = window.URL.createObjectURL(blob);\n",
              "      a.download = filename;\n",
              "      div.appendChild(a);\n",
              "      a.click();\n",
              "      div.remove();\n",
              "    }\n",
              "  "
            ],
            "text/plain": [
              "<IPython.core.display.Javascript object>"
            ]
          },
          "metadata": {}
        },
        {
          "output_type": "display_data",
          "data": {
            "application/javascript": [
              "download(\"download_9dff097d-0380-433b-a6f0-824c18cc8aca\", \"final_.xlsx\", 262419)"
            ],
            "text/plain": [
              "<IPython.core.display.Javascript object>"
            ]
          },
          "metadata": {}
        }
      ]
    }
  ]
}