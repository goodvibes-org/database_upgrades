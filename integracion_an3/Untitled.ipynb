{
 "cells": [
  {
   "cell_type": "code",
   "execution_count": 7,
   "id": "a2344b43-152f-4056-973b-bd467aa8eb72",
   "metadata": {},
   "outputs": [],
   "source": [
    "import pandas as pd\n",
    "import numpy as np\n",
    "import os\n",
    "import regex\n",
    "import json\n"
   ]
  },
  {
   "cell_type": "code",
   "execution_count": 2,
   "id": "dba734c9-a645-4063-bc00-67222be46943",
   "metadata": {},
   "outputs": [],
   "source": [
    "df = pd.read_excel(\"a_partir_de_ahora_es_manual.xlsx\")"
   ]
  },
  {
   "cell_type": "code",
   "execution_count": 4,
   "id": "e8d66625-8333-4acb-8e48-618b1ff9dadb",
   "metadata": {},
   "outputs": [],
   "source": [
    "modificables = df[df.MODIFICAR==\"Y\"]\n",
    "\n",
    "versiones = set()\n",
    "\n",
    "for n, row in modificables.iterrows():\n",
    "    versiones.add(row[\"Info para Reporte\"])"
   ]
  },
  {
   "cell_type": "code",
   "execution_count": 11,
   "id": "893abec4-086d-4be8-8b9c-bf23693d1438",
   "metadata": {},
   "outputs": [],
   "source": [
    "\n",
    "\n",
    "with open (\"plantilla.json\", \"w\") as file:\n",
    "    \n",
    "    json.dump({version: \"\" for version in versiones},file)"
   ]
  },
  {
   "cell_type": "code",
   "execution_count": 15,
   "id": "9facda36-f2f7-4cdf-b62a-0d9e8710dba2",
   "metadata": {},
   "outputs": [],
   "source": [
    "pd.Series({version: \"reemplazar\" for version in versiones}).to_excel(\"plantilla.xlsx\")"
   ]
  }
 ],
 "metadata": {
  "kernelspec": {
   "display_name": "Python 3 (ipykernel)",
   "language": "python",
   "name": "python3"
  },
  "language_info": {
   "codemirror_mode": {
    "name": "ipython",
    "version": 3
   },
   "file_extension": ".py",
   "mimetype": "text/x-python",
   "name": "python",
   "nbconvert_exporter": "python",
   "pygments_lexer": "ipython3",
   "version": "3.9.7"
  }
 },
 "nbformat": 4,
 "nbformat_minor": 5
}
