{
 "cells": [
  {
   "cell_type": "code",
   "execution_count": null,
   "id": "84884b16",
   "metadata": {},
   "outputs": [],
   "source": [
    "import pandas as pd\n",
    "import os\n",
    "import numpy as np\n",
    "import json\n",
    "import regex\n",
    "import matplotlib.pyplot as plt"
   ]
  },
  {
   "cell_type": "code",
   "execution_count": 47,
   "id": "9da3d1bd",
   "metadata": {},
   "outputs": [],
   "source": [
    "bpc=pd.read_excel(\"BPC_Ingredientes.xlsx\")\n",
    "an3=pd.read_excel('annex_iii_inventory_en_PARA CARGAR en 03.xls')\n",
    "with open(\"traducciones.json\") as file:\n",
    "    traducciones=json.load(file)\n"
   ]
  },
  {
   "cell_type": "code",
   "execution_count": 49,
   "id": "ecf03577",
   "metadata": {},
   "outputs": [],
   "source": [
    "names=an3['Name'].apply(lambda x: x.lower()).to_list()\n",
    "ec=an3['EC / List no.'].to_list()\n",
    "cas=an3['CAS no.'].to_list()\n",
    "\n"
   ]
  },
  {
   "cell_type": "code",
   "execution_count": 50,
   "id": "af39a6dd",
   "metadata": {},
   "outputs": [],
   "source": [
    "blurb='European Commission Legislation (Regulation (EC) N° 1223/2009 y 2019/831, Annexes I to VI and all the amendments to the cosmetics regulation).'"
   ]
  },
  {
   "cell_type": "code",
   "execution_count": null,
   "id": "ee403615",
   "metadata": {},
   "outputs": [],
   "source": [
    "bpc_mapped=[]\n",
    "for n,node in bpc.iterrows():\n",
    "    for sinonimo in node['Synonyms.formatx'].split(';'):\n",
    "        buffer=[]\n",
    "        query=an3[\n",
    "            (an3['Name'] == sinonimo) |\\\n",
    "            (an3['EC / List no.'] == node['EC No']) |\\\n",
    "            (an3['CAS no.'] == node['CAS No'])\n",
    "        ]\n",
    "        if not query.empty:\n",
    "            node['modificado']=True\n",
    "            \n",
    "            node[\"Info para Reporte\"] = (lambda x: traducciones.get(x,x))(node[\"Info para Reporte\"])\n",
    "            \n",
    "            ttm=query['Criteria(Indication)'].values[0]\n",
    "            if node['Anexo.iii.Criteria'] == '-':\n",
    "                node['Anexo.iii.Criteria']=ttm\n",
    "                # node['Info para Reporte']=node['Info para Reporte']\n",
    "                node['Citas']= node['Citas'] + '{};'.format(blurb)\n",
    "            if node[\"Info para Reporte\"] == \"-\":\n",
    "                node[\"Info para Reporte\"] = (lambda x: traducciones.get(x, \"-\"))(node[\"Anexo.iii.Criteria\"])\n",
    "            \n",
    "            if node['CAS No']=='-' and query['CAS no.'].values[0]!='-':\n",
    "                node['CAS No'] = query['CAS no.'].values[0]\n",
    "                node['Synonyms.formatx']=node['Synonyms.formatx'] + '{};'.format(query['CAS no.'].values[0])\n",
    "            if node['EC No']=='-' and query['EC / List no.'].values[0] != '-':\n",
    "                node['EC No'] = query['EC / List no.'].values[0]\n",
    "                node['Synonyms.formatx']=node['Synonyms.formatx'] + '{};'.format(query['EC / List no.'].values[0])\n",
    "            buffer=node    \n",
    "           \n",
    "            break\n",
    "            \n",
    "        else:\n",
    "            buffer=node\n",
    "        \n",
    "    bpc_mapped.append(buffer)\n",
    "\n",
    "\n",
    "            \n",
    "            "
   ]
  },
  {
   "cell_type": "code",
   "execution_count": null,
   "id": "f27aa794",
   "metadata": {},
   "outputs": [],
   "source": [
    "df_an3_no_dd=pd.concat(bpc_mapped, axis=1).T"
   ]
  },
  {
   "cell_type": "code",
   "execution_count": null,
   "id": "4dedea09",
   "metadata": {},
   "outputs": [],
   "source": [
    "df_an3_no_dd.to_excel(\"prueba_es_este.xlsx\")"
   ]
  },
  {
   "cell_type": "code",
   "execution_count": null,
   "id": "893bac95",
   "metadata": {},
   "outputs": [],
   "source": [
    "df_an3_2=pd.concat(bpc_mapped, axis=1).T.drop_duplicates(subset=['Synonyms.formatx'])\n"
   ]
  },
  {
   "cell_type": "code",
   "execution_count": null,
   "id": "70862ff8",
   "metadata": {},
   "outputs": [],
   "source": [
    "risky=df_an3_no_dd[df_an3_no_dd['Total.Risk']>=2]\n",
    "risky_itr=risky[risky['Info para Reporte']!='-']\n",
    "risky_final=risky_itr[risky_itr.Citas!='-']\n",
    "risky_final.to_excel(\"risky_prueba.xlsx\")"
   ]
  },
  {
   "cell_type": "code",
   "execution_count": null,
   "id": "603bba3a-58f2-4115-82cf-15192aaa3a7d",
   "metadata": {},
   "outputs": [],
   "source": [
    "risky.to_excel(\"removiendo_harmonised.xlsx\")"
   ]
  },
  {
   "cell_type": "code",
   "execution_count": 19,
   "id": "62e68da2-a2a5-4b8b-813a-1dd3649a1345",
   "metadata": {},
   "outputs": [],
   "source": [
    "risky.to_excel(\"rararara.xlsx\")"
   ]
  },
  {
   "cell_type": "code",
   "execution_count": 11,
   "id": "2ff47df9",
   "metadata": {},
   "outputs": [],
   "source": [
    "risky_final.to_excel('bpc_con_an3_itr_citas.xlsx')"
   ]
  },
  {
   "cell_type": "code",
   "execution_count": 12,
   "id": "7363fe66",
   "metadata": {},
   "outputs": [],
   "source": [
    "extractos=pd.read_excel('extractos.xlsx')\n",
    "extractos.columns=['name', 'Info para Reporte', 'Citas']"
   ]
  },
  {
   "cell_type": "code",
   "execution_count": 13,
   "id": "dd071968",
   "metadata": {},
   "outputs": [],
   "source": [
    "rows_con_extractos=[]\n",
    "for n,node in bpc.iterrows():\n",
    "    for sinonimo in node['Synonyms.formatx'].split(';'):\n",
    "        query=extractos[\n",
    "            (extractos['name'] == sinonimo)\n",
    "        ]\n",
    "        if query.empty:\n",
    "            rows_con_extractos.append(node)\n",
    "        else:\n",
    "            print('salte aca')\n",
    "            node['modificado']=True\n",
    "            ipr=query['Info para Reporte'].values[0]\n",
    "            citas=query['Citas'].values[0]\n",
    "            if node['Info para Reporte'] == '-':\n",
    "                # node['Info para Reporte']=ipr\n",
    "                node['Info para Reporte']=node['Info para Reporte']\n",
    "                node['Citas']=node['Citas']+ ' {}'.format(citas)\n",
    "            rows_con_extractos.append(node)\n",
    "\n",
    "            break\n",
    "            "
   ]
  },
  {
   "cell_type": "markdown",
   "id": "32ce7500-faf1-475c-aeef-35ea3fb058c4",
   "metadata": {},
   "source": [
    "Este script está actualizado, si lo que quiero es la tabla que se le terminó mandando a roberto lo que necesito es entonces solo la variable risky!"
   ]
  }
 ],
 "metadata": {
  "kernelspec": {
   "display_name": "Python 3 (ipykernel)",
   "language": "python",
   "name": "python3"
  },
  "language_info": {
   "codemirror_mode": {
    "name": "ipython",
    "version": 3
   },
   "file_extension": ".py",
   "mimetype": "text/x-python",
   "name": "python",
   "nbconvert_exporter": "python",
   "pygments_lexer": "ipython3",
   "version": "3.9.7"
  }
 },
 "nbformat": 4,
 "nbformat_minor": 5
}
