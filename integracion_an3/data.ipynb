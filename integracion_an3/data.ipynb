{
 "cells": [
  {
   "cell_type": "code",
   "execution_count": 1,
   "id": "84884b16",
   "metadata": {},
   "outputs": [],
   "source": [
    "import pandas as pd\n",
    "import os\n",
    "import numpy as np\n",
    "import matplotlib.pyplot as plt"
   ]
  },
  {
   "cell_type": "code",
   "execution_count": 2,
   "id": "9da3d1bd",
   "metadata": {},
   "outputs": [],
   "source": [
    "bpc=pd.read_excel(\"BPC_Ingredientes.xlsx\")\n",
    "an3=pd.read_excel('annex_iii_inventory_en_PARA CARGAR en 03.xls')"
   ]
  },
  {
   "cell_type": "code",
   "execution_count": 3,
   "id": "1dc0a16d",
   "metadata": {},
   "outputs": [
    {
     "data": {
      "text/html": [
       "<div>\n",
       "<style scoped>\n",
       "    .dataframe tbody tr th:only-of-type {\n",
       "        vertical-align: middle;\n",
       "    }\n",
       "\n",
       "    .dataframe tbody tr th {\n",
       "        vertical-align: top;\n",
       "    }\n",
       "\n",
       "    .dataframe thead th {\n",
       "        text-align: right;\n",
       "    }\n",
       "</style>\n",
       "<table border=\"1\" class=\"dataframe\">\n",
       "  <thead>\n",
       "    <tr style=\"text-align: right;\">\n",
       "      <th></th>\n",
       "      <th>Name</th>\n",
       "      <th>EC / List no.</th>\n",
       "      <th>CAS no.</th>\n",
       "      <th>Criteria(Indication)</th>\n",
       "    </tr>\n",
       "  </thead>\n",
       "  <tbody>\n",
       "    <tr>\n",
       "      <th>0</th>\n",
       "      <td>Dexamethasone</td>\n",
       "      <td>200-003-9</td>\n",
       "      <td>50-02-2</td>\n",
       "      <td>Suspected mutagen#Suspected toxic for reproduc...</td>\n",
       "    </tr>\n",
       "    <tr>\n",
       "      <th>1</th>\n",
       "      <td>Cortisone 21-acetate</td>\n",
       "      <td>200-006-5</td>\n",
       "      <td>50-04-4</td>\n",
       "      <td>Suspected carcinogen#Suspected hazardous to th...</td>\n",
       "    </tr>\n",
       "    <tr>\n",
       "      <th>2</th>\n",
       "      <td>Phenobarbital</td>\n",
       "      <td>200-007-0</td>\n",
       "      <td>50-06-6</td>\n",
       "      <td>Suspected carcinogen#Suspected hazardous to th...</td>\n",
       "    </tr>\n",
       "    <tr>\n",
       "      <th>3</th>\n",
       "      <td>Mitomycin</td>\n",
       "      <td>200-008-6</td>\n",
       "      <td>50-07-7</td>\n",
       "      <td>Suspected carcinogen#Suspected hazardous to th...</td>\n",
       "    </tr>\n",
       "    <tr>\n",
       "      <th>4</th>\n",
       "      <td>Hexobarbital sodium</td>\n",
       "      <td>200-009-1</td>\n",
       "      <td>50-09-9</td>\n",
       "      <td>Suspected hazardous to the aquatic environment...</td>\n",
       "    </tr>\n",
       "    <tr>\n",
       "      <th>...</th>\n",
       "      <td>...</td>\n",
       "      <td>...</td>\n",
       "      <td>...</td>\n",
       "      <td>...</td>\n",
       "    </tr>\n",
       "    <tr>\n",
       "      <th>64894</th>\n",
       "      <td>4-Fluorophthalic Anhydride</td>\n",
       "      <td>-</td>\n",
       "      <td>319-03-9</td>\n",
       "      <td>Suspected acutely toxic via the oral route#Sus...</td>\n",
       "    </tr>\n",
       "    <tr>\n",
       "      <th>64895</th>\n",
       "      <td>Ethyl 9-Bromononanoate</td>\n",
       "      <td>-</td>\n",
       "      <td>28598-81-4</td>\n",
       "      <td>Suspected acutely toxic via the oral route#Sus...</td>\n",
       "    </tr>\n",
       "    <tr>\n",
       "      <th>64896</th>\n",
       "      <td>2-dodecoxyethyl hydrogen sulfate</td>\n",
       "      <td>-</td>\n",
       "      <td>9004-82-4</td>\n",
       "      <td>Suspected acutely toxic via the oral route#Sus...</td>\n",
       "    </tr>\n",
       "    <tr>\n",
       "      <th>64897</th>\n",
       "      <td>methyl benzenesulfonate</td>\n",
       "      <td>-</td>\n",
       "      <td>80-18-2</td>\n",
       "      <td>Suspected acutely toxic via the oral route#Sus...</td>\n",
       "    </tr>\n",
       "    <tr>\n",
       "      <th>64898</th>\n",
       "      <td>[Name confidential or not available]</td>\n",
       "      <td>603-408-2</td>\n",
       "      <td>13035-19-3</td>\n",
       "      <td>Suspected acutely toxic via the oral route#Sus...</td>\n",
       "    </tr>\n",
       "  </tbody>\n",
       "</table>\n",
       "<p>64899 rows × 4 columns</p>\n",
       "</div>"
      ],
      "text/plain": [
       "                                       Name EC / List no.     CAS no.  \\\n",
       "0                             Dexamethasone     200-003-9     50-02-2   \n",
       "1                      Cortisone 21-acetate     200-006-5     50-04-4   \n",
       "2                             Phenobarbital     200-007-0     50-06-6   \n",
       "3                                 Mitomycin     200-008-6     50-07-7   \n",
       "4                       Hexobarbital sodium     200-009-1     50-09-9   \n",
       "...                                     ...           ...         ...   \n",
       "64894            4-Fluorophthalic Anhydride             -    319-03-9   \n",
       "64895                Ethyl 9-Bromononanoate             -  28598-81-4   \n",
       "64896      2-dodecoxyethyl hydrogen sulfate             -   9004-82-4   \n",
       "64897               methyl benzenesulfonate             -     80-18-2   \n",
       "64898  [Name confidential or not available]     603-408-2  13035-19-3   \n",
       "\n",
       "                                    Criteria(Indication)  \n",
       "0      Suspected mutagen#Suspected toxic for reproduc...  \n",
       "1      Suspected carcinogen#Suspected hazardous to th...  \n",
       "2      Suspected carcinogen#Suspected hazardous to th...  \n",
       "3      Suspected carcinogen#Suspected hazardous to th...  \n",
       "4      Suspected hazardous to the aquatic environment...  \n",
       "...                                                  ...  \n",
       "64894  Suspected acutely toxic via the oral route#Sus...  \n",
       "64895  Suspected acutely toxic via the oral route#Sus...  \n",
       "64896  Suspected acutely toxic via the oral route#Sus...  \n",
       "64897  Suspected acutely toxic via the oral route#Sus...  \n",
       "64898  Suspected acutely toxic via the oral route#Sus...  \n",
       "\n",
       "[64899 rows x 4 columns]"
      ]
     },
     "execution_count": 3,
     "metadata": {},
     "output_type": "execute_result"
    }
   ],
   "source": [
    "an3"
   ]
  },
  {
   "cell_type": "code",
   "execution_count": 4,
   "id": "ecf03577",
   "metadata": {},
   "outputs": [],
   "source": [
    "names=an3['Name'].apply(lambda x: x.lower()).to_list()\n",
    "ec=an3['EC / List no.'].to_list()\n",
    "cas=an3['CAS no.'].to_list()\n",
    "\n"
   ]
  },
  {
   "cell_type": "code",
   "execution_count": 5,
   "id": "af39a6dd",
   "metadata": {},
   "outputs": [],
   "source": [
    "blurb='European Commission Legislation (Regulation (EC) N° 1223/2009 y 2019/831, Annexes I to VI and all the amendments to the cosmetics regulation).'"
   ]
  },
  {
   "cell_type": "code",
   "execution_count": 6,
   "id": "ee403615",
   "metadata": {},
   "outputs": [],
   "source": [
    "bpc_mapped=[]\n",
    "for n,node in bpc.iterrows():\n",
    "    for sinonimo in node['Synonyms.formatx'].split(';'):\n",
    "        buffer=[]\n",
    "        query=an3[\n",
    "            (an3['Name'] == sinonimo) |\\\n",
    "            (an3['EC / List no.'] == node['EC No']) |\\\n",
    "            (an3['CAS no.'] == node['CAS No'])\n",
    "        ]\n",
    "        if not query.empty:\n",
    "            node['modificado']=True\n",
    "            ttm=query['Criteria(Indication)'].values[0]\n",
    "            if node['Anexo.iii.Criteria'] == '-':\n",
    "                node['Anexo.iii.Criteria']=ttm\n",
    "                node['Info para Reporte']=node['Info para Reporte']\n",
    "                node['Citas']= node['Citas'] + '{};'.format(blurb)\n",
    "            if node['CAS No']=='-' and query['CAS no.'].values[0]!='-':\n",
    "                node['CAS No'] = query['CAS no.'].values[0]\n",
    "                node['Synonyms.formatx']=node['Synonyms.formatx'] + '{};'.format(query['CAS no.'].values[0])\n",
    "            if node['EC No']=='-' and query['EC / List no.'].values[0] != '-':\n",
    "                node['EC No'] = query['EC / List no.'].values[0]\n",
    "                node['Synonyms.formatx']=node['Synonyms.formatx'] + '{};'.format(query['EC / List no.'].values[0])\n",
    "            buffer=node    \n",
    "           \n",
    "            break\n",
    "            \n",
    "        else:\n",
    "            buffer=node\n",
    "        \n",
    "    bpc_mapped.append(buffer)\n",
    "\n",
    "\n",
    "            \n",
    "            "
   ]
  },
  {
   "cell_type": "code",
   "execution_count": 7,
   "id": "f27aa794",
   "metadata": {},
   "outputs": [],
   "source": [
    "df_an3_no_dd=pd.concat(bpc_mapped, axis=1).T"
   ]
  },
  {
   "cell_type": "code",
   "execution_count": 14,
   "id": "4dedea09",
   "metadata": {},
   "outputs": [],
   "source": [
    "df_an3_no_dd.to_excel(\"prueba_es_este.xlsx\")"
   ]
  },
  {
   "cell_type": "code",
   "execution_count": 9,
   "id": "893bac95",
   "metadata": {},
   "outputs": [],
   "source": [
    "df_an3_2=pd.concat(bpc_mapped, axis=1).T.drop_duplicates(subset=['Synonyms.formatx'])\n"
   ]
  },
  {
   "cell_type": "code",
   "execution_count": 17,
   "id": "70862ff8",
   "metadata": {},
   "outputs": [],
   "source": [
    "risky=df_an3_no_dd[df_an3_no_dd['Total.Risk']>=2]\n",
    "risky_itr=risky[risky['Info para Reporte']!='-']\n",
    "risky_final=risky_itr[risky_itr.Citas!='-']\n",
    "risky_final.to_excel(\"risky_prueba.xlsx\")"
   ]
  },
  {
   "cell_type": "code",
   "execution_count": 19,
   "id": "62e68da2-a2a5-4b8b-813a-1dd3649a1345",
   "metadata": {},
   "outputs": [],
   "source": [
    "risky.to_excel(\"rararara.xlsx\")"
   ]
  },
  {
   "cell_type": "code",
   "execution_count": 11,
   "id": "2ff47df9",
   "metadata": {},
   "outputs": [],
   "source": [
    "risky_final.to_excel('bpc_con_an3_itr_citas.xlsx')"
   ]
  },
  {
   "cell_type": "code",
   "execution_count": 12,
   "id": "7363fe66",
   "metadata": {},
   "outputs": [],
   "source": [
    "extractos=pd.read_excel('extractos.xlsx')\n",
    "extractos.columns=['name', 'Info para Reporte', 'Citas']"
   ]
  },
  {
   "cell_type": "code",
   "execution_count": 13,
   "id": "dd071968",
   "metadata": {},
   "outputs": [],
   "source": [
    "rows_con_extractos=[]\n",
    "for n,node in bpc.iterrows():\n",
    "    for sinonimo in node['Synonyms.formatx'].split(';'):\n",
    "        query=extractos[\n",
    "            (extractos['name'] == sinonimo)\n",
    "        ]\n",
    "        if query.empty:\n",
    "            rows_con_extractos.append(node)\n",
    "        else:\n",
    "            print('salte aca')\n",
    "            node['modificado']=True\n",
    "            ipr=query['Info para Reporte'].values[0]\n",
    "            citas=query['Citas'].values[0]\n",
    "            if node['Info para Reporte'] == '-':\n",
    "                # node['Info para Reporte']=ipr\n",
    "                node['Info para Reporte']=node['Info para Reporte']\n",
    "                node['Citas']=node['Citas']+ ' {}'.format(citas)\n",
    "            rows_con_extractos.append(node)\n",
    "\n",
    "            break\n",
    "            "
   ]
  },
  {
   "cell_type": "code",
   "execution_count": null,
   "id": "622aa1fe",
   "metadata": {},
   "outputs": [],
   "source": []
  }
 ],
 "metadata": {
  "kernelspec": {
   "display_name": "Python 3 (ipykernel)",
   "language": "python",
   "name": "python3"
  },
  "language_info": {
   "codemirror_mode": {
    "name": "ipython",
    "version": 3
   },
   "file_extension": ".py",
   "mimetype": "text/x-python",
   "name": "python",
   "nbconvert_exporter": "python",
   "pygments_lexer": "ipython3",
   "version": "3.9.7"
  }
 },
 "nbformat": 4,
 "nbformat_minor": 5
}
