{
 "cells": [
  {
   "cell_type": "code",
   "execution_count": 3,
   "id": "cff4fad8",
   "metadata": {},
   "outputs": [],
   "source": [
    "import pandas as pd\n",
    "import os\n",
    "import numpy as np\n",
    "import matplotlib.pyplot as plt"
   ]
  },
  {
   "cell_type": "code",
   "execution_count": 5,
   "id": "1dc0a8eb",
   "metadata": {},
   "outputs": [],
   "source": [
    "bpc=pd.read_excel(\"BPC_Ingredientes.xlsx\")\n",
    "an3=pd.read_excel('annex_iii_inventory_en_PARA CARGAR en 03.xls')"
   ]
  },
  {
   "cell_type": "code",
   "execution_count": 78,
   "id": "216a89cc",
   "metadata": {},
   "outputs": [
    {
     "data": {
      "text/html": [
       "<div>\n",
       "<style scoped>\n",
       "    .dataframe tbody tr th:only-of-type {\n",
       "        vertical-align: middle;\n",
       "    }\n",
       "\n",
       "    .dataframe tbody tr th {\n",
       "        vertical-align: top;\n",
       "    }\n",
       "\n",
       "    .dataframe thead th {\n",
       "        text-align: right;\n",
       "    }\n",
       "</style>\n",
       "<table border=\"1\" class=\"dataframe\">\n",
       "  <thead>\n",
       "    <tr style=\"text-align: right;\">\n",
       "      <th></th>\n",
       "      <th>Name</th>\n",
       "      <th>EC / List no.</th>\n",
       "      <th>CAS no.</th>\n",
       "      <th>Criteria(Indication)</th>\n",
       "    </tr>\n",
       "  </thead>\n",
       "  <tbody>\n",
       "    <tr>\n",
       "      <th>0</th>\n",
       "      <td>Dexamethasone</td>\n",
       "      <td>200-003-9</td>\n",
       "      <td>50-02-2</td>\n",
       "      <td>Suspected mutagen#Suspected toxic for reproduc...</td>\n",
       "    </tr>\n",
       "    <tr>\n",
       "      <th>1</th>\n",
       "      <td>Cortisone 21-acetate</td>\n",
       "      <td>200-006-5</td>\n",
       "      <td>50-04-4</td>\n",
       "      <td>Suspected carcinogen#Suspected hazardous to th...</td>\n",
       "    </tr>\n",
       "    <tr>\n",
       "      <th>2</th>\n",
       "      <td>Phenobarbital</td>\n",
       "      <td>200-007-0</td>\n",
       "      <td>50-06-6</td>\n",
       "      <td>Suspected carcinogen#Suspected hazardous to th...</td>\n",
       "    </tr>\n",
       "    <tr>\n",
       "      <th>3</th>\n",
       "      <td>Mitomycin</td>\n",
       "      <td>200-008-6</td>\n",
       "      <td>50-07-7</td>\n",
       "      <td>Suspected carcinogen#Suspected hazardous to th...</td>\n",
       "    </tr>\n",
       "    <tr>\n",
       "      <th>4</th>\n",
       "      <td>Hexobarbital sodium</td>\n",
       "      <td>200-009-1</td>\n",
       "      <td>50-09-9</td>\n",
       "      <td>Suspected hazardous to the aquatic environment...</td>\n",
       "    </tr>\n",
       "    <tr>\n",
       "      <th>...</th>\n",
       "      <td>...</td>\n",
       "      <td>...</td>\n",
       "      <td>...</td>\n",
       "      <td>...</td>\n",
       "    </tr>\n",
       "    <tr>\n",
       "      <th>64894</th>\n",
       "      <td>4-Fluorophthalic Anhydride</td>\n",
       "      <td>-</td>\n",
       "      <td>319-03-9</td>\n",
       "      <td>Suspected acutely toxic via the oral route#Sus...</td>\n",
       "    </tr>\n",
       "    <tr>\n",
       "      <th>64895</th>\n",
       "      <td>Ethyl 9-Bromononanoate</td>\n",
       "      <td>-</td>\n",
       "      <td>28598-81-4</td>\n",
       "      <td>Suspected acutely toxic via the oral route#Sus...</td>\n",
       "    </tr>\n",
       "    <tr>\n",
       "      <th>64896</th>\n",
       "      <td>2-dodecoxyethyl hydrogen sulfate</td>\n",
       "      <td>-</td>\n",
       "      <td>9004-82-4</td>\n",
       "      <td>Suspected acutely toxic via the oral route#Sus...</td>\n",
       "    </tr>\n",
       "    <tr>\n",
       "      <th>64897</th>\n",
       "      <td>methyl benzenesulfonate</td>\n",
       "      <td>-</td>\n",
       "      <td>80-18-2</td>\n",
       "      <td>Suspected acutely toxic via the oral route#Sus...</td>\n",
       "    </tr>\n",
       "    <tr>\n",
       "      <th>64898</th>\n",
       "      <td>[Name confidential or not available]</td>\n",
       "      <td>603-408-2</td>\n",
       "      <td>13035-19-3</td>\n",
       "      <td>Suspected acutely toxic via the oral route#Sus...</td>\n",
       "    </tr>\n",
       "  </tbody>\n",
       "</table>\n",
       "<p>64899 rows × 4 columns</p>\n",
       "</div>"
      ],
      "text/plain": [
       "                                       Name EC / List no.     CAS no.  \\\n",
       "0                             Dexamethasone     200-003-9     50-02-2   \n",
       "1                      Cortisone 21-acetate     200-006-5     50-04-4   \n",
       "2                             Phenobarbital     200-007-0     50-06-6   \n",
       "3                                 Mitomycin     200-008-6     50-07-7   \n",
       "4                       Hexobarbital sodium     200-009-1     50-09-9   \n",
       "...                                     ...           ...         ...   \n",
       "64894            4-Fluorophthalic Anhydride             -    319-03-9   \n",
       "64895                Ethyl 9-Bromononanoate             -  28598-81-4   \n",
       "64896      2-dodecoxyethyl hydrogen sulfate             -   9004-82-4   \n",
       "64897               methyl benzenesulfonate             -     80-18-2   \n",
       "64898  [Name confidential or not available]     603-408-2  13035-19-3   \n",
       "\n",
       "                                    Criteria(Indication)  \n",
       "0      Suspected mutagen#Suspected toxic for reproduc...  \n",
       "1      Suspected carcinogen#Suspected hazardous to th...  \n",
       "2      Suspected carcinogen#Suspected hazardous to th...  \n",
       "3      Suspected carcinogen#Suspected hazardous to th...  \n",
       "4      Suspected hazardous to the aquatic environment...  \n",
       "...                                                  ...  \n",
       "64894  Suspected acutely toxic via the oral route#Sus...  \n",
       "64895  Suspected acutely toxic via the oral route#Sus...  \n",
       "64896  Suspected acutely toxic via the oral route#Sus...  \n",
       "64897  Suspected acutely toxic via the oral route#Sus...  \n",
       "64898  Suspected acutely toxic via the oral route#Sus...  \n",
       "\n",
       "[64899 rows x 4 columns]"
      ]
     },
     "execution_count": 78,
     "metadata": {},
     "output_type": "execute_result"
    }
   ],
   "source": [
    "an3"
   ]
  },
  {
   "cell_type": "code",
   "execution_count": 83,
   "id": "c1e0ed9a",
   "metadata": {},
   "outputs": [],
   "source": [
    "names=an3['Name'].apply(lambda x: x.lower()).to_list()\n",
    "ec=an3['EC / List no.'].to_list()\n",
    "cas=an3['CAS no.'].to_list()\n",
    "\n"
   ]
  },
  {
   "cell_type": "code",
   "execution_count": 85,
   "id": "031db5ca",
   "metadata": {},
   "outputs": [
    {
     "ename": "KeyboardInterrupt",
     "evalue": "",
     "output_type": "error",
     "traceback": [
      "\u001b[0;31m---------------------------------------------------------------------------\u001b[0m",
      "\u001b[0;31mKeyboardInterrupt\u001b[0m                         Traceback (most recent call last)",
      "\u001b[0;32m<ipython-input-85-013969bb8773>\u001b[0m in \u001b[0;36m<module>\u001b[0;34m\u001b[0m\n\u001b[1;32m      4\u001b[0m \u001b[0;32mfor\u001b[0m \u001b[0mn\u001b[0m\u001b[0;34m,\u001b[0m\u001b[0mnode\u001b[0m \u001b[0;32min\u001b[0m \u001b[0mbpc\u001b[0m\u001b[0;34m.\u001b[0m\u001b[0miterrows\u001b[0m\u001b[0;34m(\u001b[0m\u001b[0;34m)\u001b[0m\u001b[0;34m:\u001b[0m\u001b[0;34m\u001b[0m\u001b[0;34m\u001b[0m\u001b[0m\n\u001b[1;32m      5\u001b[0m     \u001b[0;32mfor\u001b[0m \u001b[0msino\u001b[0m \u001b[0;32min\u001b[0m \u001b[0mnode\u001b[0m\u001b[0;34m[\u001b[0m\u001b[0;34m'Synonyms.formatx'\u001b[0m\u001b[0;34m]\u001b[0m\u001b[0;34m.\u001b[0m\u001b[0msplit\u001b[0m\u001b[0;34m(\u001b[0m\u001b[0;34m';'\u001b[0m\u001b[0;34m)\u001b[0m\u001b[0;34m:\u001b[0m\u001b[0;34m\u001b[0m\u001b[0;34m\u001b[0m\u001b[0m\n\u001b[0;32m----> 6\u001b[0;31m         \u001b[0;32mif\u001b[0m \u001b[0msino\u001b[0m\u001b[0;34m.\u001b[0m\u001b[0mlower\u001b[0m\u001b[0;34m(\u001b[0m\u001b[0;34m)\u001b[0m \u001b[0;32min\u001b[0m \u001b[0man3\u001b[0m\u001b[0;34m[\u001b[0m\u001b[0;34m[\u001b[0m\u001b[0;34m'Name'\u001b[0m\u001b[0;34m,\u001b[0m\u001b[0;34m'EC / List no.'\u001b[0m\u001b[0;34m,\u001b[0m \u001b[0;34m'CAS no.'\u001b[0m\u001b[0;34m]\u001b[0m\u001b[0;34m]\u001b[0m\u001b[0;34m:\u001b[0m\u001b[0;34m\u001b[0m\u001b[0;34m\u001b[0m\u001b[0m\n\u001b[0m\u001b[1;32m      7\u001b[0m             \u001b[0mprint\u001b[0m\u001b[0;34m(\u001b[0m\u001b[0;34m'Hickory'\u001b[0m\u001b[0;34m)\u001b[0m\u001b[0;34m\u001b[0m\u001b[0;34m\u001b[0m\u001b[0m\n\u001b[1;32m      8\u001b[0m \u001b[0;31m#                 bpc_mapped=bpc_mapped.append(node[\"presente_en_an3\"]:=1)\u001b[0m\u001b[0;34m\u001b[0m\u001b[0;34m\u001b[0m\u001b[0;34m\u001b[0m\u001b[0m\n",
      "\u001b[0;31mKeyboardInterrupt\u001b[0m: "
     ]
    }
   ],
   "source": [
    "bpc['presente_en_an3']=0\n",
    "# bpc_mapped=pd.DataFrame()\n",
    "bpc_mapped=[]\n",
    "for n,node in bpc.iterrows():\n",
    "    for sino in node['Synonyms.formatx'].split(';'):\n",
    "        if sino.lower() in an3[['Name','EC / List no.', 'CAS no.']]:\n",
    "            print('Hickory')\n",
    "#                 bpc_mapped=bpc_mapped.append(node[\"presente_en_an3\"]:=1)\n",
    "#                 bpc_mapped.append(node)\n",
    "            break\n",
    "        \n",
    "            "
   ]
  },
  {
   "cell_type": "code",
   "execution_count": 76,
   "id": "73ecd57b",
   "metadata": {},
   "outputs": [],
   "source": [
    "pd.concat(bpc_mapped, axis=1).T.to_excel(\"presentes_en_am3.xlsx\")"
   ]
  },
  {
   "cell_type": "code",
   "execution_count": 54,
   "id": "ff17fde7",
   "metadata": {},
   "outputs": [],
   "source": [
    "bpc_mapped.to_excel(\"mapeados.xlsx\")"
   ]
  },
  {
   "cell_type": "code",
   "execution_count": 80,
   "id": "bafe73d1",
   "metadata": {},
   "outputs": [],
   "source": [
    "node[\"aleppo\"]='Axa'"
   ]
  },
  {
   "cell_type": "code",
   "execution_count": 81,
   "id": "1819716c",
   "metadata": {},
   "outputs": [
    {
     "data": {
      "text/plain": [
       "COSING Ref No                                                                              -\n",
       "INCI name                                                                       cera de soja\n",
       "INN name                                                                                   -\n",
       "Ph. Eur. Name                                                                              -\n",
       "CAS No                                                                                     -\n",
       "EC No                                                                                      -\n",
       "NamexCas                                                                                   -\n",
       "NamexEC                                                                                    -\n",
       "NamexName                                                                                  -\n",
       "Mix                                                                                        -\n",
       "Anexo.iii.name                                                                             -\n",
       "Anexo.iii.EC                                                                               -\n",
       "Anexo.iii.CAS                                                                              -\n",
       "Chem/IUPAC Name / Description                                                              -\n",
       "nchar                                                                                      -\n",
       "Synonyms.formatx                                 ;cera de soja;soy wax;soya wax;soybean wax;\n",
       "-                                                                                          -\n",
       "Name to Compare \"Tool\" (Risk databases)                                         cera de soja\n",
       "Restriction                                                                                -\n",
       "Function                                                                                   -\n",
       "Anexo.iii.Criteria                                                                         -\n",
       "Info para Reporte                          Ingrediente generalmente considerado seguro pa...\n",
       "Update Date                                                                                -\n",
       "Observaciones                                                                              -\n",
       "Citas                                                                                      -\n",
       "Group.Cancer                                                                               -\n",
       "Ref.Cancer                                                                                 -\n",
       "Volume.Cancer                                                                              -\n",
       "Year.Cancer                                                                                -\n",
       "Add Info.Cancer                                                                            -\n",
       "Add Info.Dev                                                                               -\n",
       "Ref.Dev                                                                                    -\n",
       "Group.Endoc                                                                                -\n",
       "Ref.Toxicity.Allergies                                                                     -\n",
       "Add Info.Toxicity.Allergies                                                                -\n",
       "Add Info.Total/partial use restrictions                                                    -\n",
       "Ref.Endoc                                                                                  -\n",
       "Ref.Total/partial use restrictions                                                         -\n",
       "Ref.Env                                                                                    -\n",
       "Add Info.Env                                                                               -\n",
       "Cancer.Risk                                                                              0.0\n",
       "Development.Risk                                                                         0.0\n",
       "Allergies.Risk                                                                           0.0\n",
       "Endocryne.Risk                                                                           0.0\n",
       "Prohibited.Risk                                                                          0.0\n",
       "Env.Risk                                                                                 0.0\n",
       "Total.Risk                                                                               0.0\n",
       "presente_en_an3                                                                            0\n",
       "aleppo                                                                                   Axa\n",
       "Name: 30727, dtype: object"
      ]
     },
     "execution_count": 81,
     "metadata": {},
     "output_type": "execute_result"
    }
   ],
   "source": [
    "node"
   ]
  }
 ],
 "metadata": {
  "kernelspec": {
   "display_name": "Python 3 (ipykernel)",
   "language": "python",
   "name": "python3"
  },
  "language_info": {
   "codemirror_mode": {
    "name": "ipython",
    "version": 3
   },
   "file_extension": ".py",
   "mimetype": "text/x-python",
   "name": "python",
   "nbconvert_exporter": "python",
   "pygments_lexer": "ipython3",
   "version": "3.9.7"
  }
 },
 "nbformat": 4,
 "nbformat_minor": 5
}
