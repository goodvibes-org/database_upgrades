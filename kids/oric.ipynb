{
 "cells": [
  {
   "cell_type": "code",
   "execution_count": 1,
   "id": "57e347f7-ff63-4e51-9230-d538eaf08249",
   "metadata": {},
   "outputs": [],
   "source": [
    "import pandas as pd\n",
    "import numpy as np\n",
    "import os"
   ]
  },
  {
   "cell_type": "code",
   "execution_count": 2,
   "id": "ec023e01-00bd-4520-b6f3-a82f22462d5f",
   "metadata": {},
   "outputs": [],
   "source": [
    "foods = pd.read_excel(\"foods.xlsx\")\n",
    "bpc = pd.read_excel(\"bpc.xlsx\")"
   ]
  },
  {
   "cell_type": "code",
   "execution_count": 28,
   "id": "fd1578c0-4618-47b7-9094-7b0db836b451",
   "metadata": {},
   "outputs": [],
   "source": [
    "foods.rename(columns = {\"Unnamed: 0\": \"short_name\"}, inplace = True)\n",
    "foods.drop(0, axis = 0, inplace = True)"
   ]
  },
  {
   "cell_type": "code",
   "execution_count": 70,
   "id": "3ed0773d-53c5-436d-958e-960903cbe9a0",
   "metadata": {},
   "outputs": [],
   "source": [
    "pd.isna(foods.short_name)\n",
    "rows = []\n",
    "sinonimos = []\n",
    "rowpack = []\n",
    "for n,row in foods.iterrows():\n",
    "    if not pd.isna(row.short_name):\n",
    "        sinonimos.append(row.short_name)\n",
    "        rowpack.append(row)\n",
    "    else:\n",
    "        if rowpack != [] and sinonimos != []:\n",
    "            sinonimos.insert(0, \"\")\n",
    "            rowpack[0][\"Synonyms.formatx\"] = \";\".join(sinonimos)\n",
    "            rows.append(rowpack[0])\n",
    "            rowpack = []\n",
    "            sinonimos = []\n",
    "foodsc = pd.DataFrame(rows)      \n",
    "foodsc.to_excel(\"foods_procesados.xlsx\")"
   ]
  },
  {
   "cell_type": "code",
   "execution_count": 75,
   "id": "2a723f8b-243c-4f4f-a756-a8a2a2050a7b",
   "metadata": {},
   "outputs": [],
   "source": [
    "rows_bpc = []\n",
    "names_foods = []\n",
    "for (n, row) in foodsc.iterrows():\n",
    "    names_foods += [fpn.lower() for fpn in row[\"Synonyms.formatx\"].split(\";\") if fpn != \"\"]\n",
    "for (n, row) in bpc.iterrows():\n",
    "    possible_names = [pn.lower() for pn in row[\"Synonyms.formatx\"].split(\";\") if pn != \"\"]\n",
    "    counter = 0\n",
    "    for possible_name in possible_names:\n",
    "        if possible_name in names_foods:\n",
    "            counter += 1\n",
    "    if counter == 0:\n",
    "        rows_bpc.append(row)\n",
    "ndf = pd.concat([foodsc, pd.DataFrame(rows_bpc)])\n",
    "    "
   ]
  },
  {
   "cell_type": "code",
   "execution_count": 81,
   "id": "a77cca97-6ccc-4393-9970-8837cff9c6c0",
   "metadata": {},
   "outputs": [],
   "source": [
    "ndf.to_excel(\"kids.xlsx\")"
   ]
  }
 ],
 "metadata": {
  "kernelspec": {
   "display_name": "Python 3 (ipykernel)",
   "language": "python",
   "name": "python3"
  },
  "language_info": {
   "codemirror_mode": {
    "name": "ipython",
    "version": 3
   },
   "file_extension": ".py",
   "mimetype": "text/x-python",
   "name": "python",
   "nbconvert_exporter": "python",
   "pygments_lexer": "ipython3",
   "version": "3.9.13"
  }
 },
 "nbformat": 4,
 "nbformat_minor": 5
}
